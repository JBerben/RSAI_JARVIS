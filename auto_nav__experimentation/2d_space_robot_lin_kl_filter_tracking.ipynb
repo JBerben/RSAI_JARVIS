{
 "cells": [
  {
   "cell_type": "code",
   "execution_count": 31,
   "outputs": [],
   "source": [
    "%matplotlib inline"
   ],
   "metadata": {
    "collapsed": false,
    "pycharm": {
     "name": "#%%\n"
    }
   }
  },
  {
   "cell_type": "code",
   "execution_count": 32,
   "outputs": [
    {
     "data": {
      "text/plain": "<IPython.core.display.HTML object>",
      "text/html": "\n        <style>\n        .output_wrapper, .output {\n            height:auto !important;\n            max-height:100000px;\n        }\n        .output_scroll {\n            box-shadow:none !important;\n            webkit-box-shadow:none !important;\n        }\n        </style>\n    "
     },
     "execution_count": 32,
     "metadata": {},
     "output_type": "execute_result"
    }
   ],
   "source": [
    "from auto_nav__experimentation import book_format\n",
    "book_format.set_style()"
   ],
   "metadata": {
    "collapsed": false,
    "pycharm": {
     "name": "#%%\n"
    }
   }
  },
  {
   "cell_type": "markdown",
   "metadata": {
    "collapsed": true,
    "pycharm": {
     "name": "#%% md\n"
    }
   },
   "source": [
    "\n",
    "# Chapter 8: Designing Kalman Filters<a href=\"#kalman_bayesian_filters_in_python\" id=\"kalman_bayesian_filters_in_python_ref\"><sup>1</sup></a>\n",
    "\n",
    "\"Filter\": In signal processing, a filter is a device or process/algorithm that removes some unwanted components or features from a signal.<br>\n",
    "\n",
    "<ins>\"Kalman Filter\":</ins> \"In statistics and control theory, Kalman filtering, also known as linear quadratic estimation (LQE), is an algorithm that uses a series of measurements observed over time, containing statistical noise and other inaccuracies, and produces estimates of unknown variables that tend to be more accurate than those based on a single measurement alone, by estimating a joint probability distribution over the variables for each timeframe.\"<a href=\"#kalman_filter_wikipedia\" id=\"kalman_filter_wikipedia_ref\"><sup>2</sup></a>\n",
    "\n",
    "<ins>Task Goal:</ins> <br>\n",
    "The tracking of a robot in 2D space. Initially a simple noisy sensor which generates noisy outputs of (x,y) coordinate positions will be used. The generated noisy (x,y) coordinate positions, in 2D space, outputs will be filtered in order to generate a 2D track.\n",
    "\n",
    "---\n",
    "\n",
    "<a id=\"kalman_bayesian_filters_in_python\" href=\"#kalman_bayesian_filters_in_python_ref\"><sup>1</sup></a>[Kalman and Bayesian Filters in Python](https://github.com/rlabbe/Kalman-and-Bayesian-Filters-in-Python) by Roger R Labbe Jr, August 29 2018<br>\n",
    "<a id=\"kalman_filter_wikipedia\" href=\"#kalman_filter_wikipedia_ref\"><sup>2</sup></a>[Kalman filter\n",
    "](https://en.wikipedia.org/wiki/Kalman_filter)-Wikipedia"
   ]
  },
  {
   "cell_type": "code",
   "execution_count": 33,
   "outputs": [],
   "source": [
    "import numpy as np\n",
    "\n",
    "class PosSensor(object):\n",
    "\tdef __init__(self, pos=(0, 0), vel=(0, 0), noise_std=1.):\n",
    "\t\tself.vel = vel\n",
    "\t\tself.noise_std = noise_std\n",
    "\t\tself.pos = [pos[0], pos[1]]\n",
    "\t\tself.pos_hist = []\n",
    "\n",
    "\tdef read(self):\n",
    "\t\tself.pos[0] += self.vel[0]\n",
    "\t\tself.pos[1] += self.vel[1]\n",
    "\n",
    "\t\t# X(t) = [x_1(t), x_2(t)] <=> (x, y)\n",
    "\t\t# x_1(t) = x_pred(t) + noise(t)\n",
    "\t\t# x_2(t) = x_pred(t) + noise(t)\n",
    "\t\tx1_pred = self.pos[0] + np.random.randn() * self.noise_std\n",
    "\t\tx2_pred = self.pos[1] + np.random.randn() * self.noise_std\n",
    "\t\tnoisy_pos_coord = [x1_pred, x2_pred]\n",
    "\t\tself.pos_hist.append(noisy_pos_coord)\n",
    "\t\treturn noisy_pos_coord\n",
    "\t\t# return [self.pos[0] + np.random.randn() * self.noise_std,\n",
    "\t\t# \t\tself.pos[1] + np.random.randn() * self.noise_std]"
   ],
   "metadata": {
    "collapsed": false,
    "pycharm": {
     "name": "#%%\n"
    }
   }
  },
  {
   "cell_type": "markdown",
   "source": [
    "$\\mathbf{X}(t) = [x_1(t), x_2(t)]$ &nbsp;&nbsp;&nbsp;   where: &nbsp;&nbsp;&nbsp; $x=x_{1}(t)$ &nbsp;&&nbsp;\n",
    " $y=x_{2}(t)$<br>\n",
    "\n",
    "\n",
    " At each time (step), t, the true value/state of $x_{1}(t)$ is equal to the predicted value/state outputted by an imperfect model plus some noise (generated from some unknown process).\n",
    "\n",
    "$x_{1}(t) = x_{1_{pred}}(t) + noise(t)$<br>\n",
    "$x_{2}(t) = x_{2_{pred}}(t) + noise(t)$<br>\n",
    "\n"
   ],
   "metadata": {
    "collapsed": false,
    "pycharm": {
     "name": "#%% md\n"
    }
   }
  },
  {
   "cell_type": "code",
   "execution_count": 34,
   "outputs": [],
   "source": [
    "import matplotlib.pyplot as plt\n",
    "# import numpy as np\n",
    "# from kf_book.book_plots import plot_measurements\n",
    "from auto_nav__experimentation.plotting_tools_from_book import plot_measurements\n",
    "\n",
    "pos, vel = (4, 3), (2, 1)\n",
    "sensor = PosSensor(pos, vel, noise_std=1)\n",
    "ps = np.array([sensor.read() for _ in range(50)])"
   ],
   "metadata": {
    "collapsed": false,
    "pycharm": {
     "name": "#%%\n"
    }
   }
  },
  {
   "cell_type": "code",
   "execution_count": 35,
   "outputs": [
    {
     "data": {
      "text/plain": "<Figure size 648x288 with 1 Axes>",
      "image/png": "[encoded data removed]"
     },
     "metadata": {
      "needs_background": "light"
     },
     "output_type": "display_data"
    }
   ],
   "source": [
    "plot_measurements(ps[:, 0], ps[:, 1])\n",
    "plt.grid(True)"
   ],
   "metadata": {
    "collapsed": false,
    "pycharm": {
     "name": "#%%\n"
    }
   }
  },
  {
   "cell_type": "markdown",
   "source": [
    "### Choosing State Variables"
   ],
   "metadata": {
    "collapsed": false,
    "pycharm": {
     "name": "#%% md\n"
    }
   }
  },
  {
   "cell_type": "markdown",
   "source": [
    "### Design The State Transition Function\n",
    "\n",
    "The state transition function is implemented as a matrix $\\mathbf F$ that we multiply with the previous state of our system to get the next state\n",
    "\n",
    "\n",
    "\n",
    "\n"
   ],
   "metadata": {
    "collapsed": false
   }
  },
  {
   "cell_type": "code",
   "execution_count": null,
   "outputs": [],
   "source": [
    "\n"
   ],
   "metadata": {
    "collapsed": false,
    "pycharm": {
     "name": "#%%\n"
    }
   }
  }
 ],
 "metadata": {
  "kernelspec": {
   "display_name": "Python 3",
   "language": "python",
   "name": "python3"
  },
  "language_info": {
   "codemirror_mode": {
    "name": "ipython",
    "version": 2
   },
   "file_extension": ".py",
   "mimetype": "text/x-python",
   "name": "python",
   "nbconvert_exporter": "python",
   "pygments_lexer": "ipython2",
   "version": "2.7.6"
  }
 },
 "nbformat": 4,
 "nbformat_minor": 0
}